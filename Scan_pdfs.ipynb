{
 "cells": [
  {
   "cell_type": "code",
   "execution_count": 104,
   "metadata": {},
   "outputs": [],
   "source": [
    "import os\n",
    "import regex\n",
    "import glob\n",
    "import multiprocessing as mp\n",
    "\n",
    "from functools import partial, reduce\n",
    "\n",
    "import numpy as np\n",
    "import pandas as pd\n",
    "import seaborn as sns\n",
    "import matplotlib.pyplot as plt\n",
    "\n",
    "from pdf2image.exceptions import (\n",
    "    PDFInfoNotInstalledError,\n",
    "    PDFPageCountError,\n",
    "    PDFSyntaxError\n",
    ")\n",
    "\n",
    "from pdf2image import convert_from_path, convert_from_bytes\n",
    "import matplotlib.pyplot as plt\n",
    "import cv2 as cv\n",
    "import pytesseract"
   ]
  },
  {
   "cell_type": "code",
   "execution_count": 42,
   "metadata": {},
   "outputs": [
    {
     "data": {
      "text/plain": [
       "'/Users/gml/Documents/IX/imagenes/FinalDeImagenes/analisis_clinicos'"
      ]
     },
     "execution_count": 42,
     "metadata": {},
     "output_type": "execute_result"
    }
   ],
   "source": [
    "path = os.path.abspath('analisis_clinicos/')\n",
    "path"
   ]
  },
  {
   "cell_type": "code",
   "execution_count": 50,
   "metadata": {},
   "outputs": [
    {
     "data": {
      "text/plain": [
       "['/Users/gml/Documents/IX/imagenes/FinalDeImagenes/analisis_clinicos/gustavo_maganna_2018-05-13.pdf',\n",
       " '/Users/gml/Documents/IX/imagenes/FinalDeImagenes/analisis_clinicos/gustavo_maganna_2018-05-06.pdf',\n",
       " '/Users/gml/Documents/IX/imagenes/FinalDeImagenes/analisis_clinicos/gustavo_maganna_2019-11-13.pdf',\n",
       " '/Users/gml/Documents/IX/imagenes/FinalDeImagenes/analisis_clinicos/Wed Nov 13 18:05:58 CST 2019.pdf',\n",
       " '/Users/gml/Documents/IX/imagenes/FinalDeImagenes/analisis_clinicos/InformeResultados1-110600.pdf',\n",
       " '/Users/gml/Documents/IX/imagenes/FinalDeImagenes/analisis_clinicos/gustavo_maganna_2018-01-19.pdf']"
      ]
     },
     "execution_count": 50,
     "metadata": {},
     "output_type": "execute_result"
    }
   ],
   "source": [
    "caminos = glob.glob(f\"{path}/*.pdf\")\n",
    "caminos"
   ]
  },
  {
   "cell_type": "code",
   "execution_count": 53,
   "metadata": {},
   "outputs": [
    {
     "data": {
      "text/plain": [
       "['gustavo_maganna_2018-05-13.pdf',\n",
       " 'gustavo_maganna_2018-05-06.pdf',\n",
       " 'gustavo_maganna_2019-11-13.pdf',\n",
       " 'Wed Nov 13 18:05:58 CST 2019.pdf',\n",
       " 'InformeResultados1-110600.pdf',\n",
       " 'gustavo_maganna_2018-01-19.pdf']"
      ]
     },
     "execution_count": 53,
     "metadata": {},
     "output_type": "execute_result"
    }
   ],
   "source": [
    "archivos = [ os.path.split(camino)[1] for camino in caminos]\n",
    "archivos"
   ]
  },
  {
   "cell_type": "code",
   "execution_count": null,
   "metadata": {},
   "outputs": [],
   "source": [
    "#pool.close()\n",
    "#pool.terminate()"
   ]
  },
  {
   "cell_type": "code",
   "execution_count": 45,
   "metadata": {},
   "outputs": [],
   "source": [
    "pool = mp.Pool()"
   ]
  },
  {
   "cell_type": "code",
   "execution_count": 56,
   "metadata": {},
   "outputs": [],
   "source": [
    "imagenes = pool.map(convert_from_path, caminos)"
   ]
  },
  {
   "cell_type": "code",
   "execution_count": 57,
   "metadata": {},
   "outputs": [],
   "source": [
    "archivos_en_imagenes = {\n",
    "    archivo: imagen for archivo, imagen in zip(archivos, imagenes)\n",
    "}"
   ]
  },
  {
   "cell_type": "code",
   "execution_count": 65,
   "metadata": {},
   "outputs": [
    {
     "data": {
      "text/plain": [
       "[<PIL.PpmImagePlugin.PpmImageFile image mode=RGB size=1660x2339 at 0x124712F50>,\n",
       " <PIL.PpmImagePlugin.PpmImageFile image mode=RGB size=1660x2339 at 0x124712850>,\n",
       " <PIL.PpmImagePlugin.PpmImageFile image mode=RGB size=1660x2339 at 0x1247120D0>]"
      ]
     },
     "execution_count": 65,
     "metadata": {},
     "output_type": "execute_result"
    }
   ],
   "source": [
    "archivos_en_imagenes[archivos[0]]"
   ]
  },
  {
   "cell_type": "code",
   "execution_count": 64,
   "metadata": {},
   "outputs": [],
   "source": [
    "strings = {\n",
    "    nombre: pool.map(pytesseract.image_to_string, archivo) for nombre, archivo in archivos_en_imagenes.items()\n",
    "}"
   ]
  },
  {
   "cell_type": "code",
   "execution_count": 215,
   "metadata": {},
   "outputs": [],
   "source": [
    "# Sent all of these files to texts/\n",
    "for nombre, hojas in strings.items():\n",
    "    for i, hoja in enumerate(hojas):\n",
    "        _file_name = f\"{nombre.replace('.pdf', '')}.{i}.txt\"\n",
    "        with open(_file_name, \"w\") as f:\n",
    "                  f.write(hoja)"
   ]
  },
  {
   "cell_type": "code",
   "execution_count": 250,
   "metadata": {},
   "outputs": [
    {
     "name": "stdout",
     "output_type": "stream",
     "text": [
      "['01477 7885', '06/08/1996', '13/05/2018', '1002040012', '13/05/2018']\n",
      "['01477 7885', '06/08/1996', '13/05/2018', '1002040012', '13/05/2018']\n",
      "['01477 7885', '06/08/1996', '13/05/2018', '1002040012', '13/05/2018']\n",
      "['06/08/1996']\n",
      "['06/08/1996']\n",
      "['06/08/1996']\n",
      "['06/08/1996']\n",
      "['06/08/1996']\n",
      "['06/08/1996']\n",
      "['06/08/1996']\n",
      "['06/08/1996']\n",
      "['06/08/1996']\n",
      "['06/08/1996']\n",
      "['06/08/1996']\n",
      "['06/08/1996']\n",
      "['06/08/1996']\n"
     ]
    }
   ],
   "source": [
    "for lista in strings.values():\n",
    "    for string in lista:\n",
    "        print(regex.findall(r\"\\d\\d.\\d\\d.\\d\\d\\d\\d\", string))"
   ]
  },
  {
   "cell_type": "code",
   "execution_count": 205,
   "metadata": {},
   "outputs": [
    {
     "name": "stdout",
     "output_type": "stream",
     "text": [
      "gustavo_maganna_2018-05-06.pdf\n"
     ]
    }
   ],
   "source": [
    "_file = archivos[1]\n",
    "print(_file)\n",
    "#print(strings[_file][0])"
   ]
  },
  {
   "cell_type": "code",
   "execution_count": 245,
   "metadata": {},
   "outputs": [
    {
     "name": "stdout",
     "output_type": "stream",
     "text": [
      "gustavo_maganna_2018-05-06.pdf\n",
      " \n",
      "\n",
      "<regex.Match object; span=(0, 0), match=''>\n"
     ]
    }
   ],
   "source": [
    "_file = archivos[1]\n",
    "print(_file)\n",
    "foo = strings[_file][1]\n",
    "# Split by line breaks :\n",
    "foo_lines = foo.split(\"\\n\")\n",
    "# Select valid lines (i.e. lionge than 5 characters) :\n",
    "foo_lines = [ line for line in foo_lines ] # if len(line) > 1 ]\n",
    "\n",
    "#regex.compile(r'[A-Z]')\n",
    "print(foo_lines[10])\n",
    "for i in regex.finditer(r\"^[A-Z]*\", foo_lines[14]):\n",
    "    print(foo_lines[14])\n",
    "    #print(dir(i))\n",
    "    print(i)\n"
   ]
  },
  {
   "cell_type": "code",
   "execution_count": 246,
   "metadata": {},
   "outputs": [],
   "source": [
    "#print(foo)"
   ]
  },
  {
   "cell_type": "code",
   "execution_count": 247,
   "metadata": {},
   "outputs": [],
   "source": [
    "# My regexps :\n",
    "\n",
    "may_ge_2 = r\"^[A-Z]{2,}\"  # Find CAPITAL WORDS longer than 2, at the begining of the line.\n",
    "numbers = r\"(\\d+\\.\\d+|\\d+)\" # Find numbers of any length, with a decimal point or not.\n",
    "from_begining_until_point = r\"^.+?(?=(\\..+))\" # Find any text before the first occurrence of a pint\n",
    "failed_extract_units = r\"(?<=((\\d+\\.\\d+|\\d+)+))(.+)\"\n"
   ]
  },
  {
   "cell_type": "code",
   "execution_count": 261,
   "metadata": {},
   "outputs": [
    {
     "name": "stdout",
     "output_type": "stream",
     "text": [
      "Fecha Nac.:06/08/1996 Fecha ingreso: 6-MAY-2018 09:20 AM_ Fecha—Hora ler Impresion:6-MAY-2018 01:34 PM\n",
      "\t Fecha Nac\n",
      "\t\t 06\n",
      "\t\t 08\n",
      "\t\t 1996\n",
      "\t\t 6\n",
      "\t\t 2018\n",
      "\t\t 09\n",
      "\t\t 20\n",
      "\t\t 6\n",
      "\t\t 2018\n",
      "\t\t 01\n",
      "\t\t 34\n",
      "\t\t\t 6/\n",
      "\t\t\t 8/\n",
      "\t\t\t 9\n",
      "\t\t\t 9\n",
      "\t\t\t 6 Fecha ingreso: \n",
      "\t\t\t -MAY-\n",
      "\t\t\t 0\n",
      "\t\t\t 1\n",
      "\t\t\t 8 \n",
      "\t\t\t 9:\n",
      "\t\t\t 0 AM_ Fecha—Hora ler Impresion:\n",
      "\t\t\t -MAY-\n",
      "\t\t\t 0\n",
      "\t\t\t 1\n",
      "\t\t\t 8 \n",
      "\t\t\t 1:\n",
      "Médico:JUAN CARLOS FERRER SERRANO peel H. ARANDA DE LA Ultima Impresion: 6-MAY-2018 07:58 PM\n",
      "\t Médico:JUAN CARLOS FERRER SERRANO peel H\n",
      "\t\t 6\n",
      "\t\t 2018\n",
      "\t\t 07\n",
      "\t\t 58\n",
      "\t\t\t -MAY-\n",
      "\t\t\t 0\n",
      "\t\t\t 1\n",
      "\t\t\t 8 \n",
      "\t\t\t 7:\n",
      ". U. de :\n",
      "\t . U\n",
      "GLUCOSA.Q.. oc essessessesstesssessseesstesseeseee 68 mg/dL J 70 - 100\n",
      "\t GLUCOSA\n",
      "\t\t 68\n",
      "\t\t 70\n",
      "\t\t 100\n",
      "\t\t\t 8 mg/dL J \n",
      "\t\t\t 0 - \n",
      "\t\t\t 0\n",
      "NITROGENO UREICO 17.1 mg/dL 8-26\n",
      "\t NITROGENO UREICO 17\n",
      "\t\t 17.1\n",
      "\t\t 8\n",
      "\t\t 26\n",
      "\t\t\t 7.\n",
      "\t\t\t  mg/dL \n",
      "\t\t\t -\n",
      "CREATININA.. te 0.76 mg/dL 0.61 - 1.24\n",
      "\t CREATININA\n",
      "\t\t 0.76\n",
      "\t\t 0.61\n",
      "\t\t 1.24\n",
      "\t\t\t .\n",
      "\t\t\t 6 mg/dL \n",
      "\t\t\t .\n",
      "\t\t\t 1 - \n",
      "\t\t\t .\n",
      "ACIDO URICO. 4.9 mg/dL 4.80 - 8.70\n",
      "\t ACIDO URICO\n",
      "\t\t 4.9\n",
      "\t\t 4.80\n",
      "\t\t 8.70\n",
      "\t\t\t .\n",
      "\t\t\t  mg/dL \n",
      "\t\t\t .\n",
      "\t\t\t 0 - \n",
      "\t\t\t .\n",
      "HEMOGLOBINA GLICOSILADA.......... 6.7 % tT 4.50 - 6.30\n",
      "\t HEMOGLOBINA GLICOSILADA\n",
      "\t\t 6.7\n",
      "\t\t 4.50\n",
      "\t\t 6.30\n",
      "\t\t\t .\n",
      "\t\t\t  % tT \n",
      "\t\t\t .\n",
      "\t\t\t 0 - \n",
      "\t\t\t .\n",
      "NOTA: Este reporte no constituye un diagndstico. Consulte a su médico.\n",
      "\t NOTA: Este reporte no constituye un diagndstico\n",
      "Responsable sanitario: Dr. Gilberto Aguilar Orozco, Patélogo Clinico, U.A.N.L.\n",
      "\t Responsable sanitario: Dr\n",
      "Céd. Prof. 1186314. Registro de especialista SSG 1294 SEP: Autorizacion AE-003261.\n",
      "\t Céd\n",
      "\t\t 1186314\n",
      "\t\t 1294\n",
      "\t\t 003261\n",
      "\t\t\t 1\n",
      "\t\t\t 8\n",
      "\t\t\t 6\n",
      "\t\t\t 3\n",
      "\t\t\t 1\n",
      "\t\t\t 4. Registro de especialista SSG \n",
      "\t\t\t 2\n",
      "\t\t\t 9\n",
      "\t\t\t 4 SEP: Autorizacion AE-\n",
      "\t\t\t 0\n",
      "\t\t\t 3\n",
      "\t\t\t 2\n",
      "\t\t\t 6\n",
      "Laboratorio Clinico acreditado por ema, a.c. con acreditacion No CL-078. Las pruebas en el alcance\n",
      "\t Laboratorio Clinico acreditado por ema, a\n",
      "\t\t 078\n",
      "\t\t\t 7\n",
      "Dr. Gilberto Aguilar Orozco.\n",
      "\t Dr\n"
     ]
    }
   ],
   "source": [
    "for line in foo_lines[14:]:\n",
    "    for i in regex.finditer(r\"^.+?(?=(\\..+))\", line): # FIND lines starting with Caps \n",
    "        print(i.string)\n",
    "        print('\\t',i.group())\n",
    "        for j in regex.finditer(r\"(\\d+\\.\\d+|\\d+)\", i.string): # find groups of numbers\n",
    "            print(2*'\\t',j.group())\n",
    "            # (?<=\\[).+?(?=\\])\n",
    "        for k in regex.finditer(r\"(?<=(\\d+\\.\\d+|\\d+)).+?(?=(\\d+\\.\\d+|\\d+))\", i.string):\n",
    "            print(3*'\\t',k.group())"
   ]
  },
  {
   "cell_type": "code",
   "execution_count": null,
   "metadata": {},
   "outputs": [],
   "source": []
  },
  {
   "cell_type": "code",
   "execution_count": 221,
   "metadata": {},
   "outputs": [
    {
     "name": "stdout",
     "output_type": "stream",
     "text": [
      "LABORATORIO\n",
      "ANIVERSARIO\n",
      "HOSPITAL\n",
      "TODA\n",
      "EXAMEN\n",
      "EXAMEN\n",
      "VOLUMEN\n",
      "AMARILLO\n",
      "TRANSPARENTE\n",
      "DENSIDAD\n",
      "EXAMEN\n",
      "GLUCOSA\n",
      "PROTEINAS\n",
      "ACETONA\n",
      "HEMOGLOBINA\n",
      "PIG\n",
      "ESTERASA\n",
      "NITRITOS\n",
      "UROBILINOGENO\n",
      "EXAMEN\n",
      "LEUCOCITOS\n",
      "ERITROCITOS\n",
      "CRISTALES\n",
      "CILINDROS\n",
      "CELS\n",
      "BACTERIAS\n",
      "LEVADURAS\n",
      "METODOLOGIA\n",
      "TIPO\n",
      "NOTA\n"
     ]
    }
   ],
   "source": [
    "for line in foo_lines:\n",
    "    for i in regex.findall(r\"^[A-Z]{2,}\", line):\n",
    "        print(i)"
   ]
  },
  {
   "cell_type": "code",
   "execution_count": 152,
   "metadata": {},
   "outputs": [
    {
     "data": {
      "text/plain": [
       "['__class__',\n",
       " '__copy__',\n",
       " '__deepcopy__',\n",
       " '__delattr__',\n",
       " '__dir__',\n",
       " '__doc__',\n",
       " '__eq__',\n",
       " '__format__',\n",
       " '__ge__',\n",
       " '__getattribute__',\n",
       " '__getitem__',\n",
       " '__gt__',\n",
       " '__hash__',\n",
       " '__init__',\n",
       " '__init_subclass__',\n",
       " '__le__',\n",
       " '__len__',\n",
       " '__lt__',\n",
       " '__ne__',\n",
       " '__new__',\n",
       " '__reduce__',\n",
       " '__reduce_ex__',\n",
       " '__repr__',\n",
       " '__setattr__',\n",
       " '__sizeof__',\n",
       " '__str__',\n",
       " '__subclasshook__',\n",
       " 'captures',\n",
       " 'capturesdict',\n",
       " 'detach_string',\n",
       " 'end',\n",
       " 'endpos',\n",
       " 'ends',\n",
       " 'expand',\n",
       " 'expandf',\n",
       " 'fuzzy_changes',\n",
       " 'fuzzy_counts',\n",
       " 'group',\n",
       " 'groupdict',\n",
       " 'groups',\n",
       " 'lastgroup',\n",
       " 'lastindex',\n",
       " 'partial',\n",
       " 'pos',\n",
       " 're',\n",
       " 'regs',\n",
       " 'span',\n",
       " 'spans',\n",
       " 'start',\n",
       " 'starts',\n",
       " 'string']"
      ]
     },
     "execution_count": 152,
     "metadata": {},
     "output_type": "execute_result"
    }
   ],
   "source": [
    "dir(i)"
   ]
  },
  {
   "cell_type": "code",
   "execution_count": 161,
   "metadata": {},
   "outputs": [
    {
     "ename": "TypeError",
     "evalue": "expand() takes exactly one argument (0 given)",
     "output_type": "error",
     "traceback": [
      "\u001b[0;31m---------------------------------------------------------------------------\u001b[0m",
      "\u001b[0;31mTypeError\u001b[0m                                 Traceback (most recent call last)",
      "\u001b[0;32m<ipython-input-161-0e45975bb630>\u001b[0m in \u001b[0;36m<module>\u001b[0;34m\u001b[0m\n\u001b[0;32m----> 1\u001b[0;31m \u001b[0mi\u001b[0m\u001b[0;34m.\u001b[0m\u001b[0mexpand\u001b[0m\u001b[0;34m(\u001b[0m\u001b[0;34m)\u001b[0m\u001b[0;34m\u001b[0m\u001b[0;34m\u001b[0m\u001b[0m\n\u001b[0m",
      "\u001b[0;31mTypeError\u001b[0m: expand() takes exactly one argument (0 given)"
     ]
    }
   ],
   "source": [
    "i.expand()"
   ]
  },
  {
   "cell_type": "code",
   "execution_count": 129,
   "metadata": {},
   "outputs": [
    {
     "name": "stdout",
     "output_type": "stream",
     "text": [
      "Help on function compile in module regex.regex:\n",
      "\n",
      "compile(pattern, flags=0, **kwargs)\n",
      "    Compile a regular expression pattern, returning a pattern object.\n",
      "\n"
     ]
    }
   ],
   "source": [
    "help(regex.compile)"
   ]
  },
  {
   "cell_type": "code",
   "execution_count": 128,
   "metadata": {},
   "outputs": [
    {
     "ename": "TypeError",
     "evalue": "compile() missing 1 required positional argument: 'pattern'",
     "output_type": "error",
     "traceback": [
      "\u001b[0;31m---------------------------------------------------------------------------\u001b[0m",
      "\u001b[0;31mTypeError\u001b[0m                                 Traceback (most recent call last)",
      "\u001b[0;32m<ipython-input-128-9422f18b01d4>\u001b[0m in \u001b[0;36m<module>\u001b[0;34m\u001b[0m\n\u001b[0;32m----> 1\u001b[0;31m \u001b[0mregex\u001b[0m\u001b[0;34m.\u001b[0m\u001b[0mcompile\u001b[0m\u001b[0;34m(\u001b[0m\u001b[0;34m)\u001b[0m\u001b[0;34m\u001b[0m\u001b[0;34m\u001b[0m\u001b[0m\n\u001b[0m",
      "\u001b[0;31mTypeError\u001b[0m: compile() missing 1 required positional argument: 'pattern'"
     ]
    }
   ],
   "source": [
    "regex.compile()"
   ]
  },
  {
   "cell_type": "code",
   "execution_count": 93,
   "metadata": {},
   "outputs": [
    {
     "data": {
      "text/plain": [
       "['LABORATORIODEPATOLOGIACLINICA',\n",
       " 'HOSPITAL',\n",
       " '',\n",
       " 'AVENIDAHIDALGONCPLEONGTO',\n",
       " 'ARANDADELAPARRADIRCONMEXTYTELFAX',\n",
       " '',\n",
       " 'TODALAVIDACONTIGO',\n",
       " '',\n",
       " '',\n",
       " '',\n",
       " '',\n",
       " '',\n",
       " '',\n",
       " '',\n",
       " '',\n",
       " '',\n",
       " '',\n",
       " '',\n",
       " '',\n",
       " '',\n",
       " '',\n",
       " '',\n",
       " '',\n",
       " '',\n",
       " '',\n",
       " '',\n",
       " '',\n",
       " '',\n",
       " '',\n",
       " '',\n",
       " '',\n",
       " '',\n",
       " '',\n",
       " '',\n",
       " '',\n",
       " '',\n",
       " '',\n",
       " '',\n",
       " '',\n",
       " 'PGUSTAVOMAGANALOPEZEANOSSMASCULINOCC',\n",
       " 'EFSEXTERNO',\n",
       " 'FNFMAYAMFHIMAYPM',\n",
       " 'MJUANCARLOSFERRERSERRANOHARANDADELAUIMAYPM',\n",
       " 'U',\n",
       " 'ERMIR',\n",
       " 'BIOMETRIAHEMATICAV',\n",
       " 'FORMULAROJA',\n",
       " 'HEMOGLOBINAL',\n",
       " 'HEMATOCRITOT',\n",
       " 'L',\n",
       " 'ERITROCITOST',\n",
       " 'VCML',\n",
       " '',\n",
       " '',\n",
       " 'FORMULABLANCA',\n",
       " 'LEUCOCITOSML',\n",
       " 'DIFERENCIALLEUCOCITARIA',\n",
       " 'LINFOCITOS',\n",
       " 'MONOCITOS',\n",
       " 'EOSINOFILOS',\n",
       " 'BASOFILOS',\n",
       " 'SEGMENTADOS',\n",
       " 'BANDAS',\n",
       " 'VALORESABSOLUTOS',\n",
       " 'LINFOCITOSML',\n",
       " 'MONOCITOSML',\n",
       " 'EOSINOFILOSML',\n",
       " 'BASOFILOSML',\n",
       " 'NEUTROFILOSML',\n",
       " 'PLAQUETASML',\n",
       " 'METODOLOGIACIANOMETAHEMOGLOBINAIMPEDANCIAYRAYOLASER',\n",
       " 'TIPODEMUESTRASANGRETOTALCONEDTA',\n",
       " '',\n",
       " 'A',\n",
       " '',\n",
       " 'VQFBMARIAGUADALUPEMUNOZVELAZQUEZ',\n",
       " 'NOTAEC',\n",
       " 'RDGAOPCUANL',\n",
       " 'CPRSSGSEPAAE',\n",
       " 'EO',\n",
       " '',\n",
       " 'A',\n",
       " '',\n",
       " 'ASUI',\n",
       " '',\n",
       " '',\n",
       " '',\n",
       " 'LCNCLL',\n",
       " 'V',\n",
       " '',\n",
       " 'DGAO',\n",
       " '',\n",
       " 'P']"
      ]
     },
     "execution_count": 93,
     "metadata": {},
     "output_type": "execute_result"
    }
   ],
   "source": [
    "[\n",
    "    reduce(lambda x, y: x + y if y.isupper() else x, line, '')\n",
    "    for line in woo\n",
    "]"
   ]
  },
  {
   "cell_type": "code",
   "execution_count": 95,
   "metadata": {},
   "outputs": [],
   "source": [
    "#dir('')"
   ]
  },
  {
   "cell_type": "code",
   "execution_count": 101,
   "metadata": {},
   "outputs": [],
   "source": [
    "x = \"\\n hola \\n\""
   ]
  },
  {
   "cell_type": "code",
   "execution_count": 103,
   "metadata": {},
   "outputs": [
    {
     "data": {
      "text/plain": [
       "'\\n hola \\n'"
      ]
     },
     "execution_count": 103,
     "metadata": {},
     "output_type": "execute_result"
    }
   ],
   "source": [
    "r\"{}\".format(x)"
   ]
  },
  {
   "cell_type": "code",
   "execution_count": 99,
   "metadata": {},
   "outputs": [
    {
     "name": "stdout",
     "output_type": "stream",
     "text": [
      "\\n\\nhola\n"
     ]
    }
   ],
   "source": [
    "print(r'\\n\\nhola')"
   ]
  },
  {
   "cell_type": "code",
   "execution_count": 74,
   "metadata": {},
   "outputs": [],
   "source": [
    "with open('watever', 'w') as lol:\n",
    "    lol.write(strings[archivos[2]][0])"
   ]
  },
  {
   "cell_type": "code",
   "execution_count": 75,
   "metadata": {},
   "outputs": [],
   "source": [
    "# Cuántas líneas tenemos en total :\n",
    "caracteres_por_linea = pd.core.series.Series(\n",
    "    [\n",
    "     len(line) for line in page.split('\\n') \n",
    "     for pdf in strings \n",
    "     for page in pdf\n",
    "    ],\n",
    "    name='caracteres'\n",
    ")"
   ]
  },
  {
   "cell_type": "code",
   "execution_count": 76,
   "metadata": {},
   "outputs": [
    {
     "data": {
      "text/plain": [
       "<matplotlib.axes._subplots.AxesSubplot at 0x1237b8610>"
      ]
     },
     "execution_count": 76,
     "metadata": {},
     "output_type": "execute_result"
    },
    {
     "data": {
      "image/png": "[encoded data removed]",
      "text/plain": [
       "<Figure size 432x288 with 1 Axes>"
      ]
     },
     "metadata": {
      "needs_background": "light"
     },
     "output_type": "display_data"
    }
   ],
   "source": [
    "sns.distplot(caracteres)"
   ]
  },
  {
   "cell_type": "code",
   "execution_count": 36,
   "metadata": {},
   "outputs": [
    {
     "data": {
      "text/plain": [
       "'/Users/gml/Documents/IX/imagenes/FinalDeImagenes/analisis_clinicos/gustavo_maganna_2018-05-13.pdf'"
      ]
     },
     "execution_count": 36,
     "metadata": {},
     "output_type": "execute_result"
    }
   ],
   "source": [
    "archivos[0]"
   ]
  },
  {
   "cell_type": "code",
   "execution_count": null,
   "metadata": {},
   "outputs": [],
   "source": []
  },
  {
   "cell_type": "code",
   "execution_count": 34,
   "metadata": {
    "scrolled": false
   },
   "outputs": [],
   "source": [
    "if False:\n",
    "    for pdf in strings:\n",
    "        for page in pdf:\n",
    "            print(page)"
   ]
  },
  {
   "cell_type": "code",
   "execution_count": null,
   "metadata": {},
   "outputs": [],
   "source": []
  }
 ],
 "metadata": {
  "kernelspec": {
   "display_name": "Python 3",
   "language": "python",
   "name": "python3"
  },
  "language_info": {
   "codemirror_mode": {
    "name": "ipython",
    "version": 3
   },
   "file_extension": ".py",
   "mimetype": "text/x-python",
   "name": "python",
   "nbconvert_exporter": "python",
   "pygments_lexer": "ipython3",
   "version": "3.7.4"
  }
 },
 "nbformat": 4,
 "nbformat_minor": 2
}
